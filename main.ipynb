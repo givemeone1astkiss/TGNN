{
 "cells": [
  {
   "cell_type": "code",
   "id": "initial_id",
   "metadata": {
    "collapsed": true,
    "ExecuteTime": {
     "end_time": "2025-03-28T11:40:05.573382Z",
     "start_time": "2025-03-28T11:40:05.565766Z"
    }
   },
   "source": [
    "from rdkit import Chem\n",
    "from rdkit.Chem import BondType, HybridizationType\n",
    "\n",
    "def smiles_to_graph(smiles, add_hs=False):\n",
    "    \"\"\"将SMILES字符串转换为分子图\"\"\"\n",
    "    mol = Chem.MolFromSmiles(smiles)\n",
    "    if mol is None:\n",
    "        return None\n",
    "    \n",
    "    if add_hs:\n",
    "        mol = Chem.AddHs(mol)  # 添加氢原子\n",
    "    \n",
    "    # 原子特征映射\n",
    "    hybrid_mapping = {\n",
    "        HybridizationType.SP: 0,\n",
    "        HybridizationType.SP2: 1,\n",
    "        HybridizationType.SP3: 2,\n",
    "        HybridizationType.SP3D: 3,\n",
    "        HybridizationType.SP3D2: 4,\n",
    "        HybridizationType.UNSPECIFIED: 5,\n",
    "        HybridizationType.S: 6,\n",
    "    }\n",
    "    \n",
    "    # 提取原子特征\n",
    "    nodes = []\n",
    "    for atom in mol.GetAtoms():\n",
    "        node_feats = [\n",
    "            atom.GetAtomicNum(),           # 原子序数\n",
    "            atom.GetFormalCharge(),        # 形式电荷\n",
    "            hybrid_mapping.get(atom.GetHybridization(), 5),  # 杂化方式\n",
    "            atom.GetTotalNumHs(),          # 总氢数\n",
    "            int(atom.IsInRing()),          # 是否在环中（0或1）\n",
    "            int(atom.GetIsAromatic()),     # 是否芳香\n",
    "        ]\n",
    "        nodes.append(node_feats)\n",
    "    \n",
    "    # 键特征映射\n",
    "    bond_type_mapping = {\n",
    "        BondType.SINGLE: 1,\n",
    "        BondType.DOUBLE: 2,\n",
    "        BondType.TRIPLE: 3,\n",
    "        BondType.AROMATIC: 4,\n",
    "    }\n",
    "    \n",
    "    # 提取键特征\n",
    "    edges = []\n",
    "    for bond in mol.GetBonds():\n",
    "        start = bond.GetBeginAtomIdx()\n",
    "        end = bond.GetEndAtomIdx()\n",
    "        bond_type = bond_type_mapping.get(bond.GetBondType(), 0)\n",
    "        bond_feats = [\n",
    "            bond_type,                        # 键类型\n",
    "            int(bond.GetIsConjugated()),      # 是否共轭（0或1）\n",
    "            int(bond.IsInRing()),             # 是否在环中（0或1）\n",
    "        ]\n",
    "        # 添加双向边（无向图）\n",
    "        edges.append((start, end, bond_feats))\n",
    "        edges.append((end, start, bond_feats))\n",
    "    \n",
    "    return {\n",
    "        'nodes': nodes,   # 节点特征列表\n",
    "        'edges': edges,   # 边列表（起始索引、终止索引、特征）\n",
    "    }\n",
    "\n",
    "# 示例使用\n",
    "smiles_list = ['CCO', 'C1=CC=CC=C1']  # 乙醇和苯\n",
    "graphs = []\n",
    "for smi in smiles_list:\n",
    "    graph = smiles_to_graph(smi)\n",
    "    if graph:\n",
    "        graphs.append(graph)\n",
    "        print(f\"SMILES: {smi}\")\n",
    "        print(f\"节点数: {len(graph['nodes'])}\")\n",
    "        print(f\"边数: {len(graph['edges'])}\")\n",
    "        print(f\"nodes: {graph['nodes']}\")"
   ],
   "outputs": [
    {
     "name": "stdout",
     "output_type": "stream",
     "text": [
      "SMILES: CCO\n",
      "节点数: 3\n",
      "边数: 4\n",
      "nodes: [[6, 0, 2, 3, 0, 0], [6, 0, 2, 2, 0, 0], [8, 0, 2, 1, 0, 0]]\n",
      "SMILES: C1=CC=CC=C1\n",
      "节点数: 6\n",
      "边数: 12\n",
      "nodes: [[6, 0, 1, 1, 1, 1], [6, 0, 1, 1, 1, 1], [6, 0, 1, 1, 1, 1], [6, 0, 1, 1, 1, 1], [6, 0, 1, 1, 1, 1], [6, 0, 1, 1, 1, 1]]\n"
     ]
    }
   ],
   "execution_count": 3
  },
  {
   "metadata": {},
   "cell_type": "code",
   "outputs": [],
   "execution_count": null,
   "source": "",
   "id": "30299a17add805a5"
  }
 ],
 "metadata": {
  "kernelspec": {
   "display_name": "Python 3",
   "language": "python",
   "name": "python3"
  },
  "language_info": {
   "codemirror_mode": {
    "name": "ipython",
    "version": 2
   },
   "file_extension": ".py",
   "mimetype": "text/x-python",
   "name": "python",
   "nbconvert_exporter": "python",
   "pygments_lexer": "ipython2",
   "version": "2.7.6"
  }
 },
 "nbformat": 4,
 "nbformat_minor": 5
}
